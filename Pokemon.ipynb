{
 "cells": [
  {
   "cell_type": "code",
   "execution_count": null,
   "metadata": {},
   "outputs": [],
   "source": [
    "# Importando os arquivos\n",
    "\n",
    "import pandas as pd\n",
    "\n",
    "df = pd.read_csv('pokemon_data.csv')\n"
   ]
  },
  {
   "cell_type": "code",
   "execution_count": null,
   "metadata": {},
   "outputs": [],
   "source": [
    "# Lendo as cabeçalhos\n",
    "\n",
    "print(df.columns)\n"
   ]
  },
  {
   "cell_type": "code",
   "execution_count": null,
   "metadata": {},
   "outputs": [],
   "source": [
    "# Lendo cada coluna\n",
    "\n",
    "print(df[['Name', 'Type 1', 'HP']])"
   ]
  },
  {
   "cell_type": "code",
   "execution_count": null,
   "metadata": {},
   "outputs": [],
   "source": [
    "# Formas de ler cada linha\n",
    "\n",
    "# 1°\n",
    "print(df.iloc[0:4])\n",
    "\n",
    "# 2°\n",
    "for index, linha in df.iterrows():\n",
    "    print(index, linha['Name'])\n",
    "\n",
    "# 3°\n",
    "df.loc[df['Type 1'] == \"Fire\"]"
   ]
  },
  {
   "cell_type": "code",
   "execution_count": null,
   "metadata": {},
   "outputs": [],
   "source": [
    "# Lendo um local especifico (Linha, Coluna)\n",
    "\n",
    "print(df.iloc[2,1])"
   ]
  },
  {
   "cell_type": "code",
   "execution_count": null,
   "metadata": {},
   "outputs": [],
   "source": [
    "# Sorting e Describe Data\n",
    "\n",
    "df.describe()\n",
    "\n",
    "df.sort_values('Name')\n",
    "\n",
    "df.sort_values('Name', ascending=False)\n",
    "\n",
    "df.sort_values(['Type 1', 'HP'], ascending=False)\n",
    "\n",
    "df.sort_values(['Type 1', 'HP'], ascending=[1,0])\n",
    "\n"
   ]
  },
  {
   "cell_type": "code",
   "execution_count": null,
   "metadata": {},
   "outputs": [],
   "source": [
    "# Fazendo mudanças nos dados\n",
    "\n",
    "df['Total'] = df['HP'] + df['Attack'] + df['Defense'] + df['Sp. Atk'] + df['Sp. Def'] + df['Speed'] # Fazendo Estatisticas\n",
    "\n",
    "df = df.drop(columns=['Total']) # Apagando Colunas\n",
    "\n",
    "df['Total'] = df.iloc[:, 4:9].sum(axis=1)\n",
    "\n",
    "\n",
    "cols = list(df.columns)\n",
    "df = df[cols[0:4] + [cols[-1]]+cols[4:12]]\n",
    "\n",
    "df.head(5)"
   ]
  },
  {
   "cell_type": "code",
   "execution_count": null,
   "metadata": {},
   "outputs": [],
   "source": [
    "# Salvando nossos Dados\n",
    "\n",
    "df.to_csv('modified.csv', index=False)\n",
    "\n",
    "df.to_excel('modified.xlsx', index=False)\n",
    "\n",
    "df.to_csv('modified.txt', index=False, sep='\\t')"
   ]
  },
  {
   "cell_type": "code",
   "execution_count": null,
   "metadata": {},
   "outputs": [],
   "source": [
    "# Filtrando Dados\n",
    "\n",
    "df.loc[(df['Type 1'] == 'Grass' ) & (df['Type 2'] == 'Poison') & (df['HP'] > 70)]\n",
    "\n",
    "new_df = df.loc[(df['Type 1'] == 'Grass' ) & (df['Type 2'] == 'Poison') & (df['HP'] > 70)]\n",
    "\n",
    "new_df.to_csv('filtered.csv')\n",
    "\n",
    "new_df = new_df.reset_index(drop=True, inplace=True)\n",
    "\n",
    "df.loc[df['Name'].str.contains('Mega')]\n",
    "\n"
   ]
  },
  {
   "cell_type": "code",
   "execution_count": null,
   "metadata": {},
   "outputs": [],
   "source": [
    "# Importando expressões regulares\n",
    "\n",
    "import re\n",
    "\n",
    "df.loc['Type 1'].str.contains('fire|grass', flags=re.I, regex=True)\n",
    "\n",
    "df.loc['Nome'].str.contains('pi[a-z]*', flags=re.I, regex=True)\n",
    "\n",
    "df.loc['Nome'].str.contains('^pi[a-z]*', flags=re.I, regex=True)\n"
   ]
  },
  {
   "cell_type": "code",
   "execution_count": null,
   "metadata": {},
   "outputs": [],
   "source": [
    "# Mudanças Condiçõnais \n",
    "\n",
    "df.loc[df['Type 1'] == 'Fire', 'Type 1'] = 'Flamer'\n",
    "\n",
    "df.loc[df['Type 1'] == 'Fire', 'Legendary'] = True\n"
   ]
  },
  {
   "cell_type": "code",
   "execution_count": null,
   "metadata": {},
   "outputs": [],
   "source": [
    "# Agregando Estatisticas Groupby\n",
    "\n",
    "df.groupby(['Type 1']).mean().sort_values('Defense', ascending=False)\n",
    "\n",
    "df.groupby(['Type 1']).sum()\n",
    "\n",
    "df.groupby(['Type 1']).count()\n",
    "\n",
    "df['count'] = 1\n",
    "\n",
    "df.groupby(['Type 1', 'Type 2']).count()['count']"
   ]
  },
  {
   "cell_type": "code",
   "execution_count": null,
   "metadata": {},
   "outputs": [],
   "source": [
    "# Trabalhando com grandes quantidades de dados\n",
    "\n",
    "for df in pd.read_csv('modified.csv', chunksize=5):\n",
    "    print('CHUNK DF')\n",
    "    print(df)"
   ]
  }
 ],
 "metadata": {
  "kernelspec": {
   "display_name": "Python 3",
   "language": "python",
   "name": "python3"
  },
  "language_info": {
   "codemirror_mode": {
    "name": "ipython",
    "version": 3
   },
   "file_extension": ".py",
   "mimetype": "text/x-python",
   "name": "python",
   "nbconvert_exporter": "python",
   "pygments_lexer": "ipython3",
   "version": "3.7.4"
  }
 },
 "nbformat": 4,
 "nbformat_minor": 2
}
